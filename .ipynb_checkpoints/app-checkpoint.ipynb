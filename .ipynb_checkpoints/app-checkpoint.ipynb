{
 "cells": [
  {
   "cell_type": "code",
   "execution_count": 7,
   "metadata": {},
   "outputs": [],
   "source": [
    "from kafka import KafkaProducer\n",
    "import requests\n",
    "import time\n",
    "def main(args):\n",
    "    logging.info('brokers={}'.format(args.brokers))\n",
    "    logging.info('topic={}'.format(args.topic))\n",
    "    logging.info('creating kafka producer')    \n",
    "    producer = KafkaProducer(bootstrap_servers=args.brokers,\n",
    "                             value_serializer=lambda x: \n",
    "                             dumps(x).encode('utf-8'))\n",
    "    old_time=int(time.time())-60\n",
    "    while(True):\n",
    "        new_time=int(time.time())\n",
    "        if(new_time>=old_time+60):\n",
    "            data=requests.get('https://finnhub.io/api/v1/stock/candle?symbol=SPY&resolution=1&from='+new_time-60+'&to='+new_time+'&token=brmf0inrh5re15om3qog')\n",
    "            logging.info(data)\n",
    "            producer.send(args.topic, value=data)"
   ]
  }
 ],
 "metadata": {
  "kernelspec": {
   "display_name": "Python 3",
   "language": "python",
   "name": "python3"
  },
  "language_info": {
   "codemirror_mode": {
    "name": "ipython",
    "version": 3
   },
   "file_extension": ".py",
   "mimetype": "text/x-python",
   "name": "python",
   "nbconvert_exporter": "python",
   "pygments_lexer": "ipython3",
   "version": "3.8.5"
  }
 },
 "nbformat": 4,
 "nbformat_minor": 4
}
